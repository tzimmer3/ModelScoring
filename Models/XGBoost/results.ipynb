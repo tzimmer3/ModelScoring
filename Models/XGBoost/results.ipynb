{
 "cells": [
  {
   "cell_type": "code",
   "execution_count": null,
   "metadata": {},
   "outputs": [],
   "source": [
    "# Import Data\n",
    "filepath = \"C:\\\\Users\\\\hlmq\\\\OneDrive - Chevron\\\\Data\\\\DSDP\\\\Ames\\\\\"\n",
    "\n",
    "df = pd.read_csv(str(filepath)+\"AmesHousing.csv\")"
   ]
  },
  {
   "cell_type": "code",
   "execution_count": null,
   "metadata": {},
   "outputs": [],
   "source": [
    "# Plot global model accuracy metrics\n",
    "from python_packages.Continuous_Model import Continuous_Accuracy_Table as t\n",
    "\n",
    "t.accuracy_table(X_test, y_test['Target'],y_test['Prediction'])"
   ]
  },
  {
   "cell_type": "code",
   "execution_count": null,
   "metadata": {},
   "outputs": [],
   "source": [
    "# Model Diagnostic Plots\n",
    "from python_packages.Linear_Regression import Linear_Regression_Diagnostic_Plots as t\n",
    "t.create_diagnostic_plots(y_test['Target'],y_test['Residual'])"
   ]
  },
  {
   "cell_type": "code",
   "execution_count": null,
   "metadata": {},
   "outputs": [],
   "source": [
    "# Plot global model diagnostic metrics\n",
    "from python_packages.Continuous_Model import Sklearn_Continuous_Models as t\n",
    "\n",
    "t.feature_importance(cv_best_model, X_train.columns)"
   ]
  }
 ],
 "metadata": {
  "language_info": {
   "name": "python"
  },
  "orig_nbformat": 4
 },
 "nbformat": 4,
 "nbformat_minor": 2
}
