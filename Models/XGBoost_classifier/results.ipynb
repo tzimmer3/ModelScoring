{
 "cells": [
  {
   "cell_type": "code",
   "execution_count": null,
   "metadata": {},
   "outputs": [],
   "source": [
    "# Import Data\n",
    "filepath = \"Models\\\\XGBoost\\\\out\\\\\"\n",
    "#filename = \n",
    "\n",
    "df = pd.read_csv(str(filepath)+\"AmesHousing.csv\")"
   ]
  },
  {
   "cell_type": "code",
   "execution_count": null,
   "metadata": {},
   "outputs": [],
   "source": [
    "# Plot global model accuracy metrics\n",
    "from python_packages.Continuous_Model import Continuous_Accuracy_Table as t\n",
    "\n",
    "t.accuracy_table(X_test, y_test['Target'],y_test['Prediction'])"
   ]
  },
  {
   "cell_type": "code",
   "execution_count": null,
   "metadata": {},
   "outputs": [],
   "source": [
    "# Model Diagnostic Plots\n",
    "from python_packages.Linear_Regression import Linear_Regression_Diagnostic_Plots as t\n",
    "t.create_diagnostic_plots(y_test['Target'],y_test['Residual'])"
   ]
  },
  {
   "cell_type": "code",
   "execution_count": null,
   "metadata": {},
   "outputs": [],
   "source": [
    "# Plot global model diagnostic metrics\n",
    "from python_packages.Continuous_Model import Sklearn_Continuous_Models as t\n",
    "\n",
    "t.feature_importance(cv_best_model, X_train.columns)"
   ]
  }
 ],
 "metadata": {
  "interpreter": {
   "hash": "2be5faf79681da6f2a61fdfdd5405d65d042280f7fba6178067603e3a2925119"
  },
  "kernelspec": {
   "display_name": "Python 3.10.2 64-bit",
   "language": "python",
   "name": "python3"
  },
  "language_info": {
   "codemirror_mode": {
    "name": "ipython",
    "version": 3
   },
   "file_extension": ".py",
   "mimetype": "text/x-python",
   "name": "python",
   "nbconvert_exporter": "python",
   "pygments_lexer": "ipython3",
   "version": "3.10.2"
  },
  "orig_nbformat": 4
 },
 "nbformat": 4,
 "nbformat_minor": 2
}
