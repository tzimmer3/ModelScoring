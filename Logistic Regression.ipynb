{
 "cells": [
  {
   "cell_type": "code",
   "execution_count": 1,
   "metadata": {},
   "outputs": [],
   "source": [
    "# Import Packages\n",
    "import warnings\n",
    "warnings.filterwarnings(\"ignore\")\n",
    "\n",
    "import numpy as np\n",
    "import pandas as pd\n",
    "import matplotlib.pyplot as plt\n",
    "\n",
    "#Logistic Regression\n",
    "from sklearn.linear_model import LogisticRegression\n",
    "\n",
    "# Model Scoring/Data Prep\n",
    "from sklearn.preprocessing import OneHotEncoder\n",
    "from sklearn.model_selection import train_test_split, GridSearchCV\n",
    "from sklearn.metrics import confusion_matrix"
   ]
  },
  {
   "cell_type": "code",
   "execution_count": 2,
   "metadata": {},
   "outputs": [],
   "source": [
    "# Import Data\n",
    "filepath = \"C:\\\\Users\\\\hlmq\\\\OneDrive - Chevron\\\\Data\\\\DSDP\\\\Ames\\\\\"\n",
    "\n",
    "df = pd.read_csv(str(filepath)+\"AmesHousing.csv\")"
   ]
  },
  {
   "cell_type": "markdown",
   "metadata": {},
   "source": [
    "# Feature Creation"
   ]
  },
  {
   "cell_type": "code",
   "execution_count": 3,
   "metadata": {},
   "outputs": [],
   "source": [
    "# Fill this area with created columns\n",
    "\n",
    "df['Bonus'] = np.where(df['SalePrice'] > 175000, 1,0)"
   ]
  },
  {
   "cell_type": "markdown",
   "metadata": {},
   "source": [
    "# Modeling"
   ]
  },
  {
   "cell_type": "markdown",
   "metadata": {},
   "source": [
    "### Column Preparation for Modeling"
   ]
  },
  {
   "cell_type": "code",
   "execution_count": 4,
   "metadata": {},
   "outputs": [
    {
     "data": {
      "text/plain": [
       "Index(['Order', 'PID', 'MS SubClass', 'MS Zoning', 'Lot Frontage', 'Lot Area',\n",
       "       'Street', 'Alley', 'Lot Shape', 'Land Contour', 'Utilities',\n",
       "       'Lot Config', 'Land Slope', 'Neighborhood', 'Condition 1',\n",
       "       'Condition 2', 'Bldg Type', 'House Style', 'Overall Qual',\n",
       "       'Overall Cond', 'Year Built', 'Year Remod/Add', 'Roof Style',\n",
       "       'Roof Matl', 'Exterior 1st', 'Exterior 2nd', 'Mas Vnr Type',\n",
       "       'Mas Vnr Area', 'Exter Qual', 'Exter Cond', 'Foundation', 'Bsmt Qual',\n",
       "       'Bsmt Cond', 'Bsmt Exposure', 'BsmtFin Type 1', 'BsmtFin SF 1',\n",
       "       'BsmtFin Type 2', 'BsmtFin SF 2', 'Bsmt Unf SF', 'Total Bsmt SF',\n",
       "       'Heating', 'Heating QC', 'Central Air', 'Electrical', '1st Flr SF',\n",
       "       '2nd Flr SF', 'Low Qual Fin SF', 'Gr Liv Area', 'Bsmt Full Bath',\n",
       "       'Bsmt Half Bath', 'Full Bath', 'Half Bath', 'Bedroom AbvGr',\n",
       "       'Kitchen AbvGr', 'Kitchen Qual', 'TotRms AbvGrd', 'Functional',\n",
       "       'Fireplaces', 'Fireplace Qu', 'Garage Type', 'Garage Yr Blt',\n",
       "       'Garage Finish', 'Garage Cars', 'Garage Area', 'Garage Qual',\n",
       "       'Garage Cond', 'Paved Drive', 'Wood Deck SF', 'Open Porch SF',\n",
       "       'Enclosed Porch', '3Ssn Porch', 'Screen Porch', 'Pool Area', 'Pool QC',\n",
       "       'Fence', 'Misc Feature', 'Misc Val', 'Mo Sold', 'Yr Sold', 'Sale Type',\n",
       "       'Sale Condition', 'SalePrice', 'Bonus'],\n",
       "      dtype='object')"
      ]
     },
     "execution_count": 4,
     "metadata": {},
     "output_type": "execute_result"
    }
   ],
   "source": [
    "# Get a list of the columns in the dataframe\n",
    "df.columns"
   ]
  },
  {
   "cell_type": "code",
   "execution_count": 5,
   "metadata": {},
   "outputs": [],
   "source": [
    "# Lists to modify for appropriate columns\n",
    "\n",
    "# List of IVs\n",
    "independent = ['Full Bath', 'Fireplaces', 'Roof Style']\n",
    "\n",
    "# Target Variable\n",
    "target = ['Bonus']\n",
    "\n",
    "# Columns to dummy code\n",
    "dummy_code_columns = ['Roof Style']"
   ]
  },
  {
   "cell_type": "code",
   "execution_count": 6,
   "metadata": {},
   "outputs": [],
   "source": [
    "# Subset dataset to only columns for modeling.\n",
    "X = df[independent]\n",
    "y = df[target]\n",
    "y.columns = ['Target']"
   ]
  },
  {
   "cell_type": "markdown",
   "metadata": {},
   "source": [
    "#### Dummy code categorical variables"
   ]
  },
  {
   "cell_type": "code",
   "execution_count": 7,
   "metadata": {},
   "outputs": [],
   "source": [
    "# This will DROP the original column and create dummies for categorical variables\n",
    "\n",
    "for col in dummy_code_columns:\n",
    "    X = pd.get_dummies(X, columns=[col])\n",
    "    X.drop(X.columns[len(X.columns)-1], axis=1, inplace=True)"
   ]
  },
  {
   "cell_type": "code",
   "execution_count": 8,
   "metadata": {},
   "outputs": [],
   "source": [
    "# Train,Test Split\n",
    "\n",
    "X_train, X_test, y_train, y_test = train_test_split(X, y, test_size=0.30, random_state=0)"
   ]
  },
  {
   "cell_type": "markdown",
   "metadata": {},
   "source": [
    "## Model"
   ]
  },
  {
   "cell_type": "code",
   "execution_count": 9,
   "metadata": {},
   "outputs": [],
   "source": [
    "# Full Parameter Grid\n",
    "\n",
    "param_grid = {\n",
    "     \"penalty\"           : ['l1', 'l2', 'elasticnet', 'none'] ,\n",
    "     \"fit_intercept\"     : [True, False],\n",
    "     \"solver\"            : ['newton-cg', 'lbfgs', 'liblinear', 'sag', 'saga'],\n",
    "     \"max_iter\"          : [50, 100, 150, 200],\n",
    "     }"
   ]
  },
  {
   "cell_type": "code",
   "execution_count": 10,
   "metadata": {},
   "outputs": [],
   "source": [
    "# Chosen Parameter Grid\n",
    "\n",
    "param_grid = {\n",
    "     \"penalty\"           : ['l2'] ,\n",
    "     \"fit_intercept\"     : [True],\n",
    "     \"solver\"            : ['lbfgs'],\n",
    "     \"max_iter\"          : [100],\n",
    "     }\n"
   ]
  },
  {
   "cell_type": "code",
   "execution_count": 11,
   "metadata": {},
   "outputs": [
    {
     "name": "stdout",
     "output_type": "stream",
     "text": [
      "Fitting 2 folds for each of 1 candidates, totalling 2 fits\n",
      "Best CV accuracy: 0.8069229306328152, with parameters: {'fit_intercept': True, 'max_iter': 100, 'penalty': 'l2', 'solver': 'lbfgs'}\n"
     ]
    }
   ],
   "source": [
    "# Logistic Regression Modeling.  Cross fold validation and grid search to find best parameters.\n",
    "\n",
    "Logit_model = LogisticRegression()\n",
    "\n",
    "# Save column names for future visualization\n",
    "independent_columns = X_test.columns\n",
    "\n",
    "# Initialize parameter grid for Logit_model. Shortened for brevity\n",
    "\n",
    "\n",
    "\n",
    "# Initialize grid_search.  If it takes too long, lower the crossvalidation number\n",
    "grid_search = GridSearchCV(estimator=Logit_model,\n",
    "                           param_grid=param_grid,  # parameters to be tuned\n",
    "                           cv=2,\n",
    "                           n_jobs=-1,  # -1 means use all available cores\n",
    "                           verbose=2,\n",
    "                           )\n",
    "\n",
    "# Perform CV search over grid of hyperparameters\n",
    "grid_search.fit(X_train, y_train)\n",
    "\n",
    "print(\"Best CV accuracy: {}, with parameters: {}\".format(\n",
    "    grid_search.best_score_, grid_search.best_params_))\n",
    "\n",
    "cv_best_model = grid_search.best_estimator_\n",
    "\n",
    "# Add predictions to test dataset\n",
    "y_test['Prediction'] = cv_best_model.predict(X_test)\n",
    "\n",
    "# Create residuals\n",
    "y_test['Residual'] = y_test['Target']-y_test['Prediction']"
   ]
  },
  {
   "cell_type": "markdown",
   "metadata": {},
   "source": [
    "# Model Diagnostics"
   ]
  },
  {
   "cell_type": "code",
   "execution_count": 12,
   "metadata": {},
   "outputs": [
    {
     "data": {
      "text/html": [
       "<div>\n",
       "<style scoped>\n",
       "    .dataframe tbody tr th:only-of-type {\n",
       "        vertical-align: middle;\n",
       "    }\n",
       "\n",
       "    .dataframe tbody tr th {\n",
       "        vertical-align: top;\n",
       "    }\n",
       "\n",
       "    .dataframe thead th {\n",
       "        text-align: right;\n",
       "    }\n",
       "</style>\n",
       "<table border=\"1\" class=\"dataframe\">\n",
       "  <thead>\n",
       "    <tr style=\"text-align: right;\">\n",
       "      <th></th>\n",
       "      <th>Measure</th>\n",
       "      <th>Value</th>\n",
       "    </tr>\n",
       "  </thead>\n",
       "  <tbody>\n",
       "    <tr>\n",
       "      <th>0</th>\n",
       "      <td>Accuracy</td>\n",
       "      <td>0.788396</td>\n",
       "    </tr>\n",
       "    <tr>\n",
       "      <th>1</th>\n",
       "      <td>F1_Score</td>\n",
       "      <td>0.785442</td>\n",
       "    </tr>\n",
       "    <tr>\n",
       "      <th>2</th>\n",
       "      <td>Precision</td>\n",
       "      <td>0.788295</td>\n",
       "    </tr>\n",
       "    <tr>\n",
       "      <th>3</th>\n",
       "      <td>Recall</td>\n",
       "      <td>0.788396</td>\n",
       "    </tr>\n",
       "    <tr>\n",
       "      <th>4</th>\n",
       "      <td>MCC</td>\n",
       "      <td>0.560379</td>\n",
       "    </tr>\n",
       "  </tbody>\n",
       "</table>\n",
       "</div>"
      ],
      "text/plain": [
       "     Measure     Value\n",
       "0   Accuracy  0.788396\n",
       "1   F1_Score  0.785442\n",
       "2  Precision  0.788295\n",
       "3     Recall  0.788396\n",
       "4        MCC  0.560379"
      ]
     },
     "execution_count": 12,
     "metadata": {},
     "output_type": "execute_result"
    }
   ],
   "source": [
    "# Plot global model accuracy metrics\n",
    "from custom_packages import categorical_accuracy_table\n",
    "\n",
    "categorical_accuracy_table(y_test['Target'],y_test['Prediction'])"
   ]
  },
  {
   "cell_type": "code",
   "execution_count": 13,
   "metadata": {},
   "outputs": [
    {
     "data": {
      "image/png": "[encoded data removed]",
      "text/plain": [
       "<Figure size 432x288 with 2 Axes>"
      ]
     },
     "metadata": {},
     "output_type": "display_data"
    }
   ],
   "source": [
    "# Plot confusion matrix\n",
    "from custom_packages import confusion_matrix\n",
    "\n",
    "confusion_matrix(y_test.iloc[:,0],y_test.iloc[:,1])"
   ]
  },
  {
   "cell_type": "markdown",
   "metadata": {},
   "source": [
    "# Send model results to file"
   ]
  },
  {
   "cell_type": "code",
   "execution_count": 14,
   "metadata": {},
   "outputs": [],
   "source": [
    "# Use this if you want to export any data\n",
    "\n",
    "#filepath = 'Models\\\\LogisticRegression\\\\out\\\\'\n",
    "#now = datetime.now()\n",
    "#current_time = now.strftime(\"%Y_%m_%d-%H_%M_%S\")\n",
    "#filename_submission = current_time + '_Logistic_Regression_Results.csv'\n",
    "#output_data = y_test\n",
    "\n",
    "#output_data.to_csv(filepath+filename_submission, sep=',', index = False)"
   ]
  }
 ],
 "metadata": {
  "kernelspec": {
   "display_name": "Python 3.10.2 64-bit",
   "language": "python",
   "name": "python3"
  },
  "language_info": {
   "codemirror_mode": {
    "name": "ipython",
    "version": 3
   },
   "file_extension": ".py",
   "mimetype": "text/x-python",
   "name": "python",
   "nbconvert_exporter": "python",
   "pygments_lexer": "ipython3",
   "version": "3.10.2"
  },
  "toc": {
   "base_numbering": 1,
   "nav_menu": {},
   "number_sections": true,
   "sideBar": true,
   "skip_h1_title": false,
   "title_cell": "Table of Contents",
   "title_sidebar": "Contents",
   "toc_cell": false,
   "toc_position": {},
   "toc_section_display": true,
   "toc_window_display": false
  },
  "vscode": {
   "interpreter": {
    "hash": "369f2c481f4da34e4445cda3fffd2e751bd1c4d706f27375911949ba6bb62e1c"
   }
  }
 },
 "nbformat": 4,
 "nbformat_minor": 4
}
