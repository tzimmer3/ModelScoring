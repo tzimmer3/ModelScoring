{
 "cells": [
  {
   "cell_type": "markdown",
   "metadata": {},
   "source": [
    "# Import Packages and Data"
   ]
  },
  {
   "cell_type": "code",
   "execution_count": 2,
   "metadata": {
    "ExecuteTime": {
     "end_time": "2021-11-05T17:30:22.195382Z",
     "start_time": "2021-11-05T17:30:19.478873Z"
    },
    "code_folding": [
     0
    ]
   },
   "outputs": [],
   "source": [
    "# Import Packages\n",
    "import warnings\n",
    "warnings.filterwarnings(\"ignore\")\n",
    "\n",
    "import numpy as np\n",
    "import pandas as pd\n",
    "import matplotlib.pyplot as plt\n",
    "\n",
    "#XGBoost\n",
    "import xgboost as xgb\n",
    "\n",
    "# Model packages\n",
    "from sklearn.model_selection import train_test_split, GridSearchCV\n",
    "from sklearn.preprocessing import OneHotEncoder"
   ]
  },
  {
   "cell_type": "code",
   "execution_count": 3,
   "metadata": {
    "ExecuteTime": {
     "end_time": "2021-11-05T17:30:22.255904Z",
     "start_time": "2021-11-05T17:30:22.195382Z"
    },
    "code_folding": []
   },
   "outputs": [],
   "source": [
    "# Import Data\n",
    "filepath = \"C:\\\\Users\\\\hlmq\\\\OneDrive - Chevron\\\\Data\\\\DSDP\\\\Ames\\\\\"\n",
    "\n",
    "df = pd.read_csv(str(filepath)+\"AmesHousing.csv\")"
   ]
  },
  {
   "cell_type": "markdown",
   "metadata": {},
   "source": [
    "# Feature Creation"
   ]
  },
  {
   "cell_type": "code",
   "execution_count": 4,
   "metadata": {
    "ExecuteTime": {
     "end_time": "2021-11-05T17:30:22.270829Z",
     "start_time": "2021-11-05T17:30:22.257864Z"
    }
   },
   "outputs": [],
   "source": [
    "# Fill this area with created columns"
   ]
  },
  {
   "cell_type": "markdown",
   "metadata": {},
   "source": [
    "# Modeling"
   ]
  },
  {
   "cell_type": "markdown",
   "metadata": {},
   "source": [
    "## Column Preparation for Modeling"
   ]
  },
  {
   "cell_type": "code",
   "execution_count": 5,
   "metadata": {
    "ExecuteTime": {
     "end_time": "2021-11-05T17:55:06.971215Z",
     "start_time": "2021-11-05T17:55:06.952144Z"
    },
    "code_folding": [
     0
    ]
   },
   "outputs": [
    {
     "data": {
      "text/plain": [
       "Index(['Order', 'PID', 'MS SubClass', 'MS Zoning', 'Lot Frontage', 'Lot Area',\n",
       "       'Street', 'Alley', 'Lot Shape', 'Land Contour', 'Utilities',\n",
       "       'Lot Config', 'Land Slope', 'Neighborhood', 'Condition 1',\n",
       "       'Condition 2', 'Bldg Type', 'House Style', 'Overall Qual',\n",
       "       'Overall Cond', 'Year Built', 'Year Remod/Add', 'Roof Style',\n",
       "       'Roof Matl', 'Exterior 1st', 'Exterior 2nd', 'Mas Vnr Type',\n",
       "       'Mas Vnr Area', 'Exter Qual', 'Exter Cond', 'Foundation', 'Bsmt Qual',\n",
       "       'Bsmt Cond', 'Bsmt Exposure', 'BsmtFin Type 1', 'BsmtFin SF 1',\n",
       "       'BsmtFin Type 2', 'BsmtFin SF 2', 'Bsmt Unf SF', 'Total Bsmt SF',\n",
       "       'Heating', 'Heating QC', 'Central Air', 'Electrical', '1st Flr SF',\n",
       "       '2nd Flr SF', 'Low Qual Fin SF', 'Gr Liv Area', 'Bsmt Full Bath',\n",
       "       'Bsmt Half Bath', 'Full Bath', 'Half Bath', 'Bedroom AbvGr',\n",
       "       'Kitchen AbvGr', 'Kitchen Qual', 'TotRms AbvGrd', 'Functional',\n",
       "       'Fireplaces', 'Fireplace Qu', 'Garage Type', 'Garage Yr Blt',\n",
       "       'Garage Finish', 'Garage Cars', 'Garage Area', 'Garage Qual',\n",
       "       'Garage Cond', 'Paved Drive', 'Wood Deck SF', 'Open Porch SF',\n",
       "       'Enclosed Porch', '3Ssn Porch', 'Screen Porch', 'Pool Area', 'Pool QC',\n",
       "       'Fence', 'Misc Feature', 'Misc Val', 'Mo Sold', 'Yr Sold', 'Sale Type',\n",
       "       'Sale Condition', 'SalePrice'],\n",
       "      dtype='object')"
      ]
     },
     "execution_count": 5,
     "metadata": {},
     "output_type": "execute_result"
    }
   ],
   "source": [
    "# Get a list of the columns in the dataframe\n",
    "df.columns"
   ]
  },
  {
   "cell_type": "code",
   "execution_count": 6,
   "metadata": {
    "ExecuteTime": {
     "end_time": "2021-11-05T17:30:22.301749Z",
     "start_time": "2021-11-05T17:30:22.288782Z"
    },
    "code_folding": []
   },
   "outputs": [],
   "source": [
    "# Lists to modify for appropriate columns\n",
    "\n",
    "# List of IVs\n",
    "independent = ['Full Bath', 'Fireplaces', 'Roof Style']\n",
    "\n",
    "# Target Variable\n",
    "target = ['SalePrice']\n",
    "\n",
    "# Columns to dummy code\n",
    "dummy_code_columns = ['Roof Style']"
   ]
  },
  {
   "cell_type": "markdown",
   "metadata": {},
   "source": [
    "Subset specific independent variables and dependent variable for modeling"
   ]
  },
  {
   "cell_type": "code",
   "execution_count": 7,
   "metadata": {
    "ExecuteTime": {
     "end_time": "2021-11-05T17:30:22.316735Z",
     "start_time": "2021-11-05T17:30:22.305741Z"
    },
    "code_folding": [
     0
    ]
   },
   "outputs": [],
   "source": [
    "# Subset dataset to only columns for modeling.\n",
    "X = df[independent]\n",
    "y = df[target]\n",
    "y.columns = ['Target']"
   ]
  },
  {
   "cell_type": "markdown",
   "metadata": {},
   "source": [
    "Dummy code categorical variables"
   ]
  },
  {
   "cell_type": "code",
   "execution_count": 8,
   "metadata": {
    "ExecuteTime": {
     "end_time": "2021-11-05T17:30:22.346656Z",
     "start_time": "2021-11-05T17:30:22.320697Z"
    },
    "code_folding": [
     0
    ]
   },
   "outputs": [],
   "source": [
    "# This will DROP the original column and create dummies for categorical variables\n",
    "\n",
    "for col in dummy_code_columns:\n",
    "    X = pd.get_dummies(X, columns=[col])\n",
    "    X.drop(X.columns[len(X.columns)-1], axis=1, inplace=True)"
   ]
  },
  {
   "cell_type": "markdown",
   "metadata": {},
   "source": [
    "Train, Test Split the training data for modeling"
   ]
  },
  {
   "cell_type": "code",
   "execution_count": 9,
   "metadata": {
    "ExecuteTime": {
     "end_time": "2021-11-05T17:30:22.377553Z",
     "start_time": "2021-11-05T17:30:22.353613Z"
    },
    "code_folding": [
     0
    ]
   },
   "outputs": [],
   "source": [
    "# Train,Test Split\n",
    "\n",
    "X_train, X_test, y_train, y_test = train_test_split(X, y, test_size=0.30, random_state=0)"
   ]
  },
  {
   "cell_type": "markdown",
   "metadata": {},
   "source": [
    "## XGBoost"
   ]
  },
  {
   "cell_type": "code",
   "execution_count": 10,
   "metadata": {
    "ExecuteTime": {
     "end_time": "2021-11-05T17:30:22.393511Z",
     "start_time": "2021-11-05T17:30:22.380547Z"
    },
    "code_folding": [
     0
    ]
   },
   "outputs": [],
   "source": [
    "# Full Parameter Grid\n",
    "param_grid = {\n",
    "     \"eta\"    : [0.05, 0.10, 0.15, 0.20, 0.25, 0.30 ] ,\n",
    "     \"max_depth\"        : [ 3, 4, 5, 6, 8, 10, 12, 15],\n",
    "     \"min_child_weight\" : [ 1, 3, 5, 7 ],\n",
    "     \"gamma\"            : [ 0.0, 0.1, 0.2 , 0.3, 0.4 ],\n",
    "     \"colsample_bytree\" : [ 0.3, 0.4, 0.5 , 0.7 ]\n",
    "     }\n"
   ]
  },
  {
   "cell_type": "code",
   "execution_count": 11,
   "metadata": {
    "ExecuteTime": {
     "end_time": "2021-11-05T17:30:22.409468Z",
     "start_time": "2021-11-05T17:30:22.395507Z"
    },
    "code_folding": []
   },
   "outputs": [],
   "source": [
    "# Chosen Parameter Grid\n",
    "param_grid = {\n",
    "     \"eta\"    : [0.30] ,\n",
    "     \"max_depth\"        : [ 12],\n",
    "     \"min_child_weight\" : [ 5],\n",
    "     \"gamma\"            : [0.2],\n",
    "     \"colsample_bytree\" : [0.7]\n",
    "     }"
   ]
  },
  {
   "cell_type": "code",
   "execution_count": 12,
   "metadata": {
    "ExecuteTime": {
     "end_time": "2021-11-05T17:30:27.000879Z",
     "start_time": "2021-11-05T17:30:22.413460Z"
    },
    "code_folding": [
     0
    ],
    "scrolled": true
   },
   "outputs": [
    {
     "name": "stdout",
     "output_type": "stream",
     "text": [
      "Fitting 2 folds for each of 1 candidates, totalling 2 fits\n",
      "Best CV accuracy: 0.5038072398123785, with parameters: {'colsample_bytree': 0.7, 'eta': 0.3, 'gamma': 0.2, 'max_depth': 12, 'min_child_weight': 5}\n"
     ]
    }
   ],
   "source": [
    "# XGBoost Modeling.  Cross fold validation and grid search to find best parameters.\n",
    "\n",
    "xgboost_model = xgb.XGBRegressor()\n",
    "\n",
    "# Save column names for future visualization\n",
    "independent_columns = X_test.columns\n",
    "\n",
    "# Initialize parameter grid for XGBoost. Shortened for brevity\n",
    "\n",
    "\n",
    "\n",
    "# Initialize grid_search.  If it takes too long, lower the crossvalidation number\n",
    "grid_search = GridSearchCV(estimator=xgboost_model,\n",
    "                           param_grid=param_grid,  # parameters to be tuned\n",
    "                           cv=2,\n",
    "                           n_jobs=-1,  # -1 means use all available cores\n",
    "                           verbose=2,\n",
    "                           )\n",
    "\n",
    "# Perform CV search over grid of hyperparameters\n",
    "grid_search.fit(X_train, y_train)\n",
    "\n",
    "print(\"Best CV accuracy: {}, with parameters: {}\".format(\n",
    "    grid_search.best_score_, grid_search.best_params_))\n",
    "\n",
    "\n",
    "\n",
    "cv_best_model = grid_search.best_estimator_\n",
    "\n",
    "\n",
    "# Add predictions to test dataset\n",
    "y_test['Prediction'] = cv_best_model.predict(X_test)\n",
    "\n",
    "# Create residuals\n",
    "y_test['Residual'] = y_test['Target']-y_test['Prediction']"
   ]
  },
  {
   "cell_type": "markdown",
   "metadata": {},
   "source": [
    "# Model Diagnostics"
   ]
  },
  {
   "cell_type": "markdown",
   "metadata": {},
   "source": [
    "Check global metrics"
   ]
  },
  {
   "cell_type": "code",
   "execution_count": 17,
   "metadata": {
    "ExecuteTime": {
     "end_time": "2021-11-05T17:30:27.048749Z",
     "start_time": "2021-11-05T17:30:27.003870Z"
    },
    "code_folding": [
     0
    ]
   },
   "outputs": [
    {
     "data": {
      "text/html": [
       "<div>\n",
       "<style scoped>\n",
       "    .dataframe tbody tr th:only-of-type {\n",
       "        vertical-align: middle;\n",
       "    }\n",
       "\n",
       "    .dataframe tbody tr th {\n",
       "        vertical-align: top;\n",
       "    }\n",
       "\n",
       "    .dataframe thead th {\n",
       "        text-align: right;\n",
       "    }\n",
       "</style>\n",
       "<table border=\"1\" class=\"dataframe\">\n",
       "  <thead>\n",
       "    <tr style=\"text-align: right;\">\n",
       "      <th></th>\n",
       "      <th>Measure</th>\n",
       "      <th>Value</th>\n",
       "    </tr>\n",
       "  </thead>\n",
       "  <tbody>\n",
       "    <tr>\n",
       "      <th>0</th>\n",
       "      <td>MSE</td>\n",
       "      <td>3.579251e+09</td>\n",
       "    </tr>\n",
       "    <tr>\n",
       "      <th>1</th>\n",
       "      <td>RMSE</td>\n",
       "      <td>5.982685e+04</td>\n",
       "    </tr>\n",
       "    <tr>\n",
       "      <th>2</th>\n",
       "      <td>R2</td>\n",
       "      <td>4.840778e-01</td>\n",
       "    </tr>\n",
       "    <tr>\n",
       "      <th>3</th>\n",
       "      <td>Adj R2</td>\n",
       "      <td>4.799315e-01</td>\n",
       "    </tr>\n",
       "  </tbody>\n",
       "</table>\n",
       "</div>"
      ],
      "text/plain": [
       "  Measure         Value\n",
       "0     MSE  3.579251e+09\n",
       "1    RMSE  5.982685e+04\n",
       "2      R2  4.840778e-01\n",
       "3  Adj R2  4.799315e-01"
      ]
     },
     "execution_count": 17,
     "metadata": {},
     "output_type": "execute_result"
    }
   ],
   "source": [
    "# Plot global model accuracy metrics\n",
    "from custom_packages import accuracy_table\n",
    "\n",
    "accuracy_table(X_test, y_test['Target'],y_test['Prediction'])"
   ]
  },
  {
   "cell_type": "code",
   "execution_count": null,
   "metadata": {
    "ExecuteTime": {
     "end_time": "2021-11-05T17:30:27.712629Z",
     "start_time": "2021-11-05T17:30:27.051742Z"
    },
    "code_folding": [
     0
    ]
   },
   "outputs": [],
   "source": [
    "# Model Diagnostic Plots\n",
    "from custom_packages import Linear_Regression_Diagnostic_Plots as t\n",
    "t.create_diagnostic_plots(y_test['Target'],y_test['Residual'])"
   ]
  },
  {
   "cell_type": "code",
   "execution_count": null,
   "metadata": {
    "ExecuteTime": {
     "end_time": "2021-11-05T17:30:27.980912Z",
     "start_time": "2021-11-05T17:30:27.715621Z"
    },
    "code_folding": [
     0
    ]
   },
   "outputs": [],
   "source": [
    "# Plot global model diagnostic metrics\n",
    "from custom_packages import Sklearn_Continuous_Models as t\n",
    "\n",
    "t.feature_importance(cv_best_model, X_train.columns)"
   ]
  },
  {
   "cell_type": "markdown",
   "metadata": {},
   "source": [
    "# Send Model Results to File"
   ]
  },
  {
   "cell_type": "code",
   "execution_count": null,
   "metadata": {
    "ExecuteTime": {
     "end_time": "2021-11-05T17:30:41.878504Z",
     "start_time": "2021-11-05T17:30:41.865538Z"
    },
    "code_folding": [
     0
    ]
   },
   "outputs": [],
   "source": [
    "# Make sure to modify the file name!!!!!\n",
    "\n",
    "# Use this if you want to export any data\n",
    "\n",
    "#filename_submission = 'XGBoost_Regressor_Results.csv'\n",
    "#output_data = y_test\n",
    "\n",
    "#output_data.to_csv(filepath+filename_submission, sep=',', index = False)"
   ]
  },
  {
   "cell_type": "code",
   "execution_count": null,
   "metadata": {},
   "outputs": [],
   "source": []
  },
  {
   "cell_type": "markdown",
   "metadata": {},
   "source": [
    "# Appendix"
   ]
  },
  {
   "cell_type": "code",
   "execution_count": null,
   "metadata": {},
   "outputs": [],
   "source": []
  }
 ],
 "metadata": {
  "kernelspec": {
   "display_name": "Python 3",
   "language": "python",
   "name": "python3"
  },
  "language_info": {
   "codemirror_mode": {
    "name": "ipython",
    "version": 3
   },
   "file_extension": ".py",
   "mimetype": "text/x-python",
   "name": "python",
   "nbconvert_exporter": "python",
   "pygments_lexer": "ipython3",
   "version": "3.10.2"
  },
  "toc": {
   "base_numbering": 1,
   "nav_menu": {},
   "number_sections": true,
   "sideBar": true,
   "skip_h1_title": false,
   "title_cell": "Table of Contents",
   "title_sidebar": "Contents",
   "toc_cell": false,
   "toc_position": {
    "height": "calc(100% - 180px)",
    "left": "10px",
    "top": "150px",
    "width": "167.205px"
   },
   "toc_section_display": true,
   "toc_window_display": true
  }
 },
 "nbformat": 4,
 "nbformat_minor": 2
}
