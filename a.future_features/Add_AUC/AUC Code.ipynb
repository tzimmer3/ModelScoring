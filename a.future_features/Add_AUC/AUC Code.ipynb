{
 "cells": [
  {
   "attachments": {},
   "cell_type": "markdown",
   "metadata": {},
   "source": [
    "## Taken From\n",
    "\n",
    "https://medium.com/towards-data-science/roc-analysis-and-the-auc-area-under-the-curve-404803b694b9"
   ]
  },
  {
   "attachments": {},
   "cell_type": "markdown",
   "metadata": {},
   "source": [
    "Code not tested.  Want to integrate into model diagnostic scripts.\n",
    "\n",
    "- Add a model in this notebook\n",
    "- Assess whether this is feasible\n",
    "- Integrate into other scripts"
   ]
  },
  {
   "cell_type": "code",
   "execution_count": null,
   "metadata": {},
   "outputs": [],
   "source": [
    "import matplotlib.pyplot as plt\n",
    "from sklearn.ensemble import RandomForestClassifier\n",
    "from sklearn.metrics import roc_auc_score, RocCurveDisplay\n",
    "\n"
   ]
  },
  {
   "cell_type": "code",
   "execution_count": null,
   "metadata": {},
   "outputs": [],
   "source": [
    "\n",
    "\n",
    "def plot_roc(model, test_features, test_targets):\n",
    "    \"\"\"\n",
    "    Plotting the ROC curve for a given Model and the ROC curve for a Random Forests Models\n",
    "    \"\"\"\n",
    "\n",
    "    # comparing the given model with a Random Forests model\n",
    "    random_forests_model = RandomForestClassifier(random_state=42)\n",
    "    random_forests_model.fit(train_features, train_targets)\n",
    "\n",
    "    rfc_disp = RocCurveDisplay.from_estimator(random_forests_model, test_features, test_targets)\n",
    "    model_disp = RocCurveDisplay.from_estimator(model, test_features, test_targets, ax=rfc_disp.ax_)\n",
    "    model_disp.figure_.suptitle(\"ROC curve: Multilayer Perceptron vs Random Forests\")\n",
    "\n",
    "    plt.show()\n",
    "\n",
    "# using perceptron model as input\n",
    "plot_roc(ml_percetron_model, test_features, test_targets)"
   ]
  },
  {
   "cell_type": "code",
   "execution_count": null,
   "metadata": {},
   "outputs": [],
   "source": []
  }
 ],
 "metadata": {
  "kernelspec": {
   "display_name": "Python 3",
   "language": "python",
   "name": "python3"
  },
  "language_info": {
   "codemirror_mode": {
    "name": "ipython",
    "version": 3
   },
   "file_extension": ".py",
   "mimetype": "text/x-python",
   "name": "python",
   "nbconvert_exporter": "python",
   "pygments_lexer": "ipython3",
   "version": "3.10.8 (tags/v3.10.8:aaaf517, Oct 11 2022, 16:50:30) [MSC v.1933 64 bit (AMD64)]"
  },
  "toc": {
   "base_numbering": 1,
   "nav_menu": {},
   "number_sections": true,
   "sideBar": true,
   "skip_h1_title": false,
   "title_cell": "Table of Contents",
   "title_sidebar": "Contents",
   "toc_cell": false,
   "toc_position": {},
   "toc_section_display": true,
   "toc_window_display": false
  },
  "vscode": {
   "interpreter": {
    "hash": "369f2c481f4da34e4445cda3fffd2e751bd1c4d706f27375911949ba6bb62e1c"
   }
  }
 },
 "nbformat": 4,
 "nbformat_minor": 4
}
